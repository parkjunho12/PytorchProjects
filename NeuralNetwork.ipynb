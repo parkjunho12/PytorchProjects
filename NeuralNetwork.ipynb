{
 "cells": [
  {
   "cell_type": "code",
   "execution_count": 1,
   "id": "866db38a-d191-4944-be3c-01b98ef2dd0c",
   "metadata": {},
   "outputs": [],
   "source": [
    "import torch"
   ]
  },
  {
   "cell_type": "code",
   "execution_count": 2,
   "id": "5d679db4-5b89-4270-a3a3-92029c551aac",
   "metadata": {},
   "outputs": [],
   "source": [
    "batch_size=32\n",
    "feature_size=128\n",
    "\n",
    "x = torch.rand(batch_size, feature_size)"
   ]
  },
  {
   "cell_type": "code",
   "execution_count": 3,
   "id": "7203b0ec-e7cd-4c53-983b-1430c56596cb",
   "metadata": {},
   "outputs": [
    {
     "name": "stdout",
     "output_type": "stream",
     "text": [
      "tensor([[0.3427, 0.8660, 0.0881,  ..., 0.8776, 0.0371, 0.6436],\n",
      "        [0.1425, 0.0932, 0.8791,  ..., 0.5070, 0.3899, 0.3656],\n",
      "        [0.9490, 0.5763, 0.2677,  ..., 0.2575, 0.3487, 0.2065],\n",
      "        ...,\n",
      "        [0.3497, 0.8448, 0.0293,  ..., 0.1837, 0.7641, 0.7176],\n",
      "        [0.8421, 0.9799, 0.8537,  ..., 0.1733, 0.2702, 0.6323],\n",
      "        [0.0278, 0.9603, 0.2345,  ..., 0.2703, 0.2956, 0.4255]])\n"
     ]
    }
   ],
   "source": [
    "print(x)"
   ]
  },
  {
   "cell_type": "code",
   "execution_count": 5,
   "id": "15c2ad0b-e1f9-4b69-8ac9-dc084c475428",
   "metadata": {},
   "outputs": [],
   "source": [
    "in_features = 128\n",
    "out_features = 64\n",
    "layer_1 = torch.nn.Linear(\n",
    "    in_features=in_features,\n",
    "    out_features=out_features,\n",
    "    bias=True\n",
    ")"
   ]
  },
  {
   "cell_type": "code",
   "execution_count": 7,
   "id": "cd561d7d-42d4-4d71-98ad-26af5d8bd9a9",
   "metadata": {},
   "outputs": [
    {
     "data": {
      "text/plain": [
       "torch.Size([64, 128])"
      ]
     },
     "execution_count": 7,
     "metadata": {},
     "output_type": "execute_result"
    }
   ],
   "source": [
    "layer_1.weight.shape"
   ]
  },
  {
   "cell_type": "code",
   "execution_count": 8,
   "id": "43c6e282-ffcd-4667-95b9-e1d04c5c4b5a",
   "metadata": {},
   "outputs": [],
   "source": [
    "x = torch.rand(8, 128)"
   ]
  },
  {
   "cell_type": "code",
   "execution_count": 9,
   "id": "caa40637-bf6f-4c14-ab1d-5533e762c616",
   "metadata": {},
   "outputs": [],
   "source": [
    "output_1 = layer_1(x)"
   ]
  },
  {
   "cell_type": "code",
   "execution_count": 12,
   "id": "e8e69c8b-8e85-4d16-b7d3-5bcf15348f7f",
   "metadata": {},
   "outputs": [],
   "source": [
    "output_2 = x @ layer_1.weight.T + layer_1.bias"
   ]
  },
  {
   "cell_type": "raw",
   "id": "6f40aa5d-6a88-4e44-b5de-376c37cdcb90",
   "metadata": {},
   "source": [
    "print(output_1[0, 1])"
   ]
  },
  {
   "cell_type": "code",
   "execution_count": 13,
   "id": "a06fb0fe-238d-4ee2-8586-24066600fc95",
   "metadata": {},
   "outputs": [
    {
     "name": "stdout",
     "output_type": "stream",
     "text": [
      "tensor(0.4037, grad_fn=<SelectBackward0>)\n"
     ]
    }
   ],
   "source": [
    "print(output_1[0, 1])"
   ]
  },
  {
   "cell_type": "code",
   "execution_count": 14,
   "id": "9e70b43b-74a9-4789-8847-394556d0acd4",
   "metadata": {},
   "outputs": [
    {
     "name": "stdout",
     "output_type": "stream",
     "text": [
      "tensor(0.4037, grad_fn=<SelectBackward0>)\n"
     ]
    }
   ],
   "source": [
    "print(output_2[0, 1])"
   ]
  },
  {
   "cell_type": "code",
   "execution_count": 20,
   "id": "a245ab7e-141a-4b83-91d2-8f34eef481ef",
   "metadata": {},
   "outputs": [],
   "source": [
    "# Sigmoid\n",
    "x = torch.rand(8, 128)\n",
    "\n",
    "act_fn = torch.nn.Sigmoid()\n",
    "\n",
    "out = act_fn(x)"
   ]
  },
  {
   "cell_type": "code",
   "execution_count": 21,
   "id": "b9a1f02e-7c26-42f6-aa8d-3e0b3fe30d6d",
   "metadata": {},
   "outputs": [
    {
     "data": {
      "text/plain": [
       "torch.Size([8, 128])"
      ]
     },
     "execution_count": 21,
     "metadata": {},
     "output_type": "execute_result"
    }
   ],
   "source": [
    "out.shape"
   ]
  },
  {
   "cell_type": "code",
   "execution_count": 22,
   "id": "6d834b3b-35dc-442b-b295-bbdc7d5447ab",
   "metadata": {},
   "outputs": [],
   "source": [
    "# Tanh\n",
    "x = torch.rand(8, 128)\n",
    "\n",
    "act_fn = torch.nn.Tanh()\n",
    "\n",
    "out = act_fn(x)"
   ]
  },
  {
   "cell_type": "code",
   "execution_count": 23,
   "id": "0ca778f2-5891-42e7-9afb-f73ee2fd49e8",
   "metadata": {},
   "outputs": [
    {
     "data": {
      "text/plain": [
       "torch.Size([8, 128])"
      ]
     },
     "execution_count": 23,
     "metadata": {},
     "output_type": "execute_result"
    }
   ],
   "source": [
    "out.shape"
   ]
  },
  {
   "cell_type": "code",
   "execution_count": 24,
   "id": "ec20dc76-cf32-45a8-888c-51c0138ed050",
   "metadata": {},
   "outputs": [
    {
     "data": {
      "text/plain": [
       "torch.Size([8, 128])"
      ]
     },
     "execution_count": 24,
     "metadata": {},
     "output_type": "execute_result"
    }
   ],
   "source": [
    "#ReLU\n",
    "x = torch.rand(8, 128)\n",
    "\n",
    "act_fn = torch.nn.ReLU()\n",
    "\n",
    "out = act_fn(x)\n",
    "out.shape"
   ]
  },
  {
   "cell_type": "code",
   "execution_count": 45,
   "id": "1d320d62-b5d9-4f28-a7ab-df46fbc2b9d7",
   "metadata": {},
   "outputs": [
    {
     "data": {
      "text/plain": [
       "torch.Size([1, 20])"
      ]
     },
     "execution_count": 45,
     "metadata": {},
     "output_type": "execute_result"
    }
   ],
   "source": [
    "#Softmax\n",
    "logits = torch.rand(1, 20)\n",
    "\n",
    "softmax = torch.nn.Softmax(dim=1)\n",
    "\n",
    "preb_probab = softmax(logits)\n",
    "preb_probab.shape"
   ]
  },
  {
   "cell_type": "code",
   "execution_count": 46,
   "id": "ed30ed3f-9273-4c35-b2fb-c6eb8eb1bac9",
   "metadata": {},
   "outputs": [
    {
     "name": "stdout",
     "output_type": "stream",
     "text": [
      "Sum of Logits = 9.282567024230957\n",
      "Sum of softmaxed Logits = 0.9999999403953552\n"
     ]
    }
   ],
   "source": [
    "print(\"Sum of Logits =\",torch.sum(logits, dim=1).item())\n",
    "print(\"Sum of softmaxed Logits =\",torch.sum(preb_probab, dim=1).item())"
   ]
  },
  {
   "cell_type": "code",
   "execution_count": 47,
   "id": "48357079-4a45-4341-9c7e-dca50c1ed91b",
   "metadata": {},
   "outputs": [
    {
     "data": {
      "text/plain": [
       "tensor([[0.0628, 0.0785, 0.0346, 0.0465, 0.0788, 0.0343, 0.0307, 0.0301, 0.0535,\n",
       "         0.0458, 0.0784, 0.0366, 0.0450, 0.0314, 0.0788, 0.0316, 0.0594, 0.0629,\n",
       "         0.0464, 0.0337]])"
      ]
     },
     "execution_count": 47,
     "metadata": {},
     "output_type": "execute_result"
    }
   ],
   "source": [
    "preb_probab"
   ]
  },
  {
   "cell_type": "code",
   "execution_count": 48,
   "id": "69a75367-030b-46db-9efc-54959bb9b4d9",
   "metadata": {},
   "outputs": [],
   "source": [
    "#Fully Connected Neural Network\n",
    "#Feature Vector 128 -> 64로 변환하는 Layer\n",
    "#FC Layer + Tanh으로 구성\n",
    "\n",
    "in_features= 128\n",
    "out_features= 64\n",
    "\n",
    "layer_1 = torch.nn.Linear(\n",
    "    in_features=in_features,\n",
    "    out_features=out_features,\n",
    "    bias=True\n",
    ")\n",
    "\n",
    "act_fn_1 = torch.nn.Tanh()"
   ]
  },
  {
   "cell_type": "code",
   "execution_count": 49,
   "id": "25be6c4b-bb36-4bc0-9331-93f4eef877c3",
   "metadata": {},
   "outputs": [],
   "source": [
    "#Second Layer\n",
    "# 64 -> 16으로 변환하는 Layer\n",
    "#FC Layer + Tanh으로 구성\n",
    "\n",
    "in_features= 64\n",
    "out_features= 16\n",
    "\n",
    "layer_2 = torch.nn.Linear(\n",
    "    in_features=in_features,\n",
    "    out_features=out_features,\n",
    "    bias=True\n",
    ")\n",
    "\n",
    "act_fn_2 = torch.nn.Tanh()"
   ]
  },
  {
   "cell_type": "code",
   "execution_count": 50,
   "id": "b0fd8ca4-605c-4cca-aa2f-6ceb50725d05",
   "metadata": {},
   "outputs": [],
   "source": [
    "#Third Layer\n",
    "# 16 -> 1으로 변환하는 Layer\n",
    "#FC Layer + Sigmoid로 구성\n",
    "\n",
    "in_features= 16\n",
    "out_features= 1\n",
    "\n",
    "layer_3 = torch.nn.Linear(\n",
    "    in_features=in_features,\n",
    "    out_features=out_features,\n",
    "    bias=True\n",
    ")\n",
    "\n",
    "act_fn_3 = torch.nn.Sigmoid()"
   ]
  },
  {
   "cell_type": "code",
   "execution_count": 51,
   "id": "29e06735-0ef4-4378-85b0-06ae54e46f34",
   "metadata": {},
   "outputs": [],
   "source": [
    "out_1 = act_fn_1(layer_1(x))"
   ]
  },
  {
   "cell_type": "code",
   "execution_count": 52,
   "id": "933fb23e-87b8-4514-98c7-923ee7653214",
   "metadata": {},
   "outputs": [],
   "source": [
    "out_2 = act_fn_2(layer_2(out_1))"
   ]
  },
  {
   "cell_type": "code",
   "execution_count": 53,
   "id": "f9ced18d-73a0-4aeb-a170-ebb75b881471",
   "metadata": {},
   "outputs": [],
   "source": [
    "out_3 = act_fn_3(layer_3(out_2))"
   ]
  },
  {
   "cell_type": "code",
   "execution_count": 54,
   "id": "3ff06178-c54c-4b4e-aa23-23f6adfb6a1e",
   "metadata": {},
   "outputs": [
    {
     "data": {
      "text/plain": [
       "torch.Size([8, 1])"
      ]
     },
     "execution_count": 54,
     "metadata": {},
     "output_type": "execute_result"
    }
   ],
   "source": [
    "out_3.shape"
   ]
  },
  {
   "cell_type": "code",
   "execution_count": 55,
   "id": "461deccb-2d0f-4725-b9fb-4f53bc8cf509",
   "metadata": {},
   "outputs": [
    {
     "name": "stdout",
     "output_type": "stream",
     "text": [
      "tensor([[0.4946],\n",
      "        [0.4925],\n",
      "        [0.4887],\n",
      "        [0.4960],\n",
      "        [0.4797],\n",
      "        [0.5323],\n",
      "        [0.4885],\n",
      "        [0.4302]], grad_fn=<SigmoidBackward0>)\n"
     ]
    }
   ],
   "source": [
    "print(out_3)"
   ]
  },
  {
   "cell_type": "code",
   "execution_count": 56,
   "id": "623ac7c1-3eff-464a-8ed0-0d9b73daa950",
   "metadata": {},
   "outputs": [],
   "source": [
    "model = torch.nn.Sequential(\n",
    "    torch.nn.Linear(\n",
    "        in_features=128,\n",
    "        out_features=64,\n",
    "        bias=True\n",
    "    ),\n",
    "    torch.nn.Tanh(),\n",
    "    torch.nn.Linear(\n",
    "        in_features=64,\n",
    "        out_features=16,\n",
    "        bias=True\n",
    "    ),\n",
    "    torch.nn.Tanh(),\n",
    "    torch.nn.Linear(\n",
    "        in_features=16,\n",
    "        out_features=1,\n",
    "        bias=True\n",
    "    ),\n",
    "    torch.nn.Sigmoid()\n",
    ")"
   ]
  },
  {
   "cell_type": "code",
   "execution_count": 57,
   "id": "ae324e43-e13f-44f6-8a9a-15b886663f51",
   "metadata": {},
   "outputs": [],
   "source": [
    "x = torch.rand(32, 128)\n",
    "out = model(x)"
   ]
  },
  {
   "cell_type": "code",
   "execution_count": 58,
   "id": "d86f3167-6127-499e-942d-04e62738e901",
   "metadata": {},
   "outputs": [
    {
     "data": {
      "text/plain": [
       "torch.Size([32, 1])"
      ]
     },
     "execution_count": 58,
     "metadata": {},
     "output_type": "execute_result"
    }
   ],
   "source": [
    "out.shape"
   ]
  },
  {
   "cell_type": "code",
   "execution_count": 59,
   "id": "950ea401-b05a-4ccf-8c95-c2809b7ced84",
   "metadata": {},
   "outputs": [],
   "source": [
    "class Model(torch.nn.Module):\n",
    "    def __init__(self):\n",
    "        super(Model, self).__init__()\n",
    "        self.layers = torch.nn.Sequential(\n",
    "            torch.nn.Linear(\n",
    "                in_features=128,\n",
    "                out_features=64,\n",
    "                bias=True\n",
    "            ),\n",
    "            torch.nn.Tanh(),\n",
    "            torch.nn.Linear(\n",
    "                in_features=64,\n",
    "                out_features=16,\n",
    "                bias=True\n",
    "            ),\n",
    "            torch.nn.Tanh(),\n",
    "            torch.nn.Linear(\n",
    "                in_features=16,\n",
    "                out_features=1,\n",
    "                bias=True\n",
    "            ),\n",
    "            torch.nn.Sigmoid()\n",
    "        )\n",
    "    def forward(self, x):\n",
    "        return self.layers(x)"
   ]
  },
  {
   "cell_type": "code",
   "execution_count": 60,
   "id": "7cfa13ac-7b9d-4f6b-935b-4fbfa98a75da",
   "metadata": {},
   "outputs": [],
   "source": [
    "model = Model()"
   ]
  },
  {
   "cell_type": "code",
   "execution_count": 61,
   "id": "b05edf42-37d7-48ab-9f7b-4e85e6ee354d",
   "metadata": {},
   "outputs": [],
   "source": [
    "x = torch.rand(32, 128)\n",
    "out = model(x)"
   ]
  },
  {
   "cell_type": "code",
   "execution_count": 62,
   "id": "4a82341b-3738-4d9a-bcc1-de1bc8eae308",
   "metadata": {},
   "outputs": [
    {
     "data": {
      "text/plain": [
       "torch.Size([32, 1])"
      ]
     },
     "execution_count": 62,
     "metadata": {},
     "output_type": "execute_result"
    }
   ],
   "source": [
    "out.shape"
   ]
  },
  {
   "cell_type": "code",
   "execution_count": 63,
   "id": "45d9128b-cef9-41f5-b9cc-9f4e29db0cf7",
   "metadata": {},
   "outputs": [
    {
     "data": {
      "text/plain": [
       "Model(\n",
       "  (layers): Sequential(\n",
       "    (0): Linear(in_features=128, out_features=64, bias=True)\n",
       "    (1): Tanh()\n",
       "    (2): Linear(in_features=64, out_features=16, bias=True)\n",
       "    (3): Tanh()\n",
       "    (4): Linear(in_features=16, out_features=1, bias=True)\n",
       "    (5): Sigmoid()\n",
       "  )\n",
       ")"
      ]
     },
     "execution_count": 63,
     "metadata": {},
     "output_type": "execute_result"
    }
   ],
   "source": [
    "model"
   ]
  },
  {
   "cell_type": "code",
   "execution_count": 64,
   "id": "1458e8d3-eabc-4ed0-a543-17750d7e8f96",
   "metadata": {},
   "outputs": [
    {
     "name": "stdout",
     "output_type": "stream",
     "text": [
      "Collecting torchsummary\n",
      "  Downloading torchsummary-1.5.1-py3-none-any.whl.metadata (296 bytes)\n",
      "Downloading torchsummary-1.5.1-py3-none-any.whl (2.8 kB)\n",
      "Installing collected packages: torchsummary\n",
      "Successfully installed torchsummary-1.5.1\n"
     ]
    }
   ],
   "source": [
    "!pip install torchsummary"
   ]
  },
  {
   "cell_type": "code",
   "execution_count": 65,
   "id": "63fc289b-9030-4ab0-ac0a-7ad4f19e3982",
   "metadata": {},
   "outputs": [],
   "source": [
    "from torchsummary import summary"
   ]
  },
  {
   "cell_type": "code",
   "execution_count": 66,
   "id": "aa711046-7b4a-489e-b839-e159de4471a1",
   "metadata": {},
   "outputs": [
    {
     "name": "stdout",
     "output_type": "stream",
     "text": [
      "----------------------------------------------------------------\n",
      "        Layer (type)               Output Shape         Param #\n",
      "================================================================\n",
      "            Linear-1                   [-1, 64]           8,256\n",
      "              Tanh-2                   [-1, 64]               0\n",
      "            Linear-3                   [-1, 16]           1,040\n",
      "              Tanh-4                   [-1, 16]               0\n",
      "            Linear-5                    [-1, 1]              17\n",
      "           Sigmoid-6                    [-1, 1]               0\n",
      "================================================================\n",
      "Total params: 9,313\n",
      "Trainable params: 9,313\n",
      "Non-trainable params: 0\n",
      "----------------------------------------------------------------\n",
      "Input size (MB): 0.00\n",
      "Forward/backward pass size (MB): 0.00\n",
      "Params size (MB): 0.04\n",
      "Estimated Total Size (MB): 0.04\n",
      "----------------------------------------------------------------\n"
     ]
    }
   ],
   "source": [
    "summary(model, (128,))"
   ]
  },
  {
   "cell_type": "code",
   "execution_count": null,
   "id": "11990491-ec6f-468d-b58a-95252d1eb428",
   "metadata": {},
   "outputs": [],
   "source": []
  }
 ],
 "metadata": {
  "kernelspec": {
   "display_name": "Python 3 (ipykernel)",
   "language": "python",
   "name": "python3"
  },
  "language_info": {
   "codemirror_mode": {
    "name": "ipython",
    "version": 3
   },
   "file_extension": ".py",
   "mimetype": "text/x-python",
   "name": "python",
   "nbconvert_exporter": "python",
   "pygments_lexer": "ipython3",
   "version": "3.12.4"
  }
 },
 "nbformat": 4,
 "nbformat_minor": 5
}
